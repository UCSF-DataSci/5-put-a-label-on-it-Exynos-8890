{
 "cells": [
  {
   "cell_type": "markdown",
   "id": "d92fc8a8",
   "metadata": {},
   "source": [
    "# Part 3: Practical Data Preparation\n",
    "\n",
    "**Objective:** Handle categorical features using One-Hot Encoding and address class imbalance using SMOTE."
   ]
  },
  {
   "cell_type": "markdown",
   "id": "96e4f457",
   "metadata": {},
   "source": [
    "## 1. Setup\n",
    "\n",
    "Import necessary libraries."
   ]
  },
  {
   "cell_type": "code",
   "execution_count": 33,
   "id": "44bd0886",
   "metadata": {},
   "outputs": [],
   "source": [
    "import pandas as pd\n",
    "import numpy as np\n",
    "import os\n",
    "from sklearn.model_selection import train_test_split\n",
    "from sklearn.preprocessing import OneHotEncoder\n",
    "from sklearn.linear_model import LogisticRegression\n",
    "from sklearn.metrics import accuracy_score, precision_score, recall_score, f1_score, roc_auc_score, confusion_matrix\n",
    "from sklearn.impute import SimpleImputer\n",
    "from imblearn.over_sampling import SMOTE"
   ]
  },
  {
   "cell_type": "markdown",
   "id": "dd7e00f6",
   "metadata": {},
   "source": [
    "## 2. Data Loading\n",
    "\n",
    "Load the dataset."
   ]
  },
  {
   "cell_type": "code",
   "execution_count": 34,
   "id": "0732d713",
   "metadata": {},
   "outputs": [
    {
     "name": "stdout",
     "output_type": "stream",
     "text": [
      "Data loaded successfully from ./data/synthetic_health_data.csv\n"
     ]
    },
    {
     "data": {
      "text/plain": [
       "smoker_status\n",
       "no        4084\n",
       "yes       1770\n",
       "former    1472\n",
       "Name: count, dtype: int64"
      ]
     },
     "execution_count": 34,
     "metadata": {},
     "output_type": "execute_result"
    }
   ],
   "source": [
    "def load_data(file_path = './data/synthetic_health_data.csv') -> pd.DataFrame:\n",
    "    \"\"\"\n",
    "    Load the synthetic health data from a CSV file.\n",
    "    \n",
    "    Args:\n",
    "        file_path: Path to the CSV file\n",
    "        \n",
    "    Returns:\n",
    "        DataFrame containing the data\n",
    "    \"\"\"\n",
    "    # YOUR CODE HERE\n",
    "    # Load the CSV file using pandas\n",
    "    try:\n",
    "        data = pd.read_csv(file_path)\n",
    "        print(f\"Data loaded successfully from {file_path}\")\n",
    "        data['timestamp'] = pd.to_datetime(data['timestamp'])\n",
    "        assert data['timestamp'].dtype == 'datetime64[ns]', \"Timestamp column is not in datetime format\"\n",
    "        return data\n",
    "    except FileNotFoundError:\n",
    "        print(f\"File not found: {file_path}\")\n",
    "        return None\n",
    "\n",
    "load_data()['smoker_status'].value_counts()"
   ]
  },
  {
   "cell_type": "markdown",
   "id": "2828b7f9",
   "metadata": {},
   "source": [
    "## 3. Categorical Feature Encoding\n",
    "\n",
    "Implement `encode_categorical_features` using `OneHotEncoder`."
   ]
  },
  {
   "cell_type": "code",
   "execution_count": 35,
   "id": "edb702c7",
   "metadata": {},
   "outputs": [
    {
     "name": "stdout",
     "output_type": "stream",
     "text": [
      "Data loaded successfully from ./data/synthetic_health_data.csv\n"
     ]
    },
    {
     "data": {
      "text/plain": [
       "smoker_status_yes\n",
       "0.0    5556\n",
       "1.0    1770\n",
       "Name: count, dtype: int64"
      ]
     },
     "execution_count": 35,
     "metadata": {},
     "output_type": "execute_result"
    }
   ],
   "source": [
    "def encode_categorical_features(df: pd.DataFrame, column_to_encode : str ='smoker_status'):\n",
    "    \"\"\"\n",
    "    Encode a categorical column using OneHotEncoder.\n",
    "    \n",
    "    Args:\n",
    "        df: Input DataFrame\n",
    "        column_to_encode: Name of the categorical column to encode\n",
    "        \n",
    "    Returns:\n",
    "        DataFrame with the categorical column replaced by one-hot encoded columns\n",
    "    \"\"\"\n",
    "    # YOUR CODE HERE\n",
    "    # 1. Extract the categorical column\n",
    "    df = df.copy()\n",
    "    \n",
    "    # 2. Apply OneHotEncoder\n",
    "    encoder = OneHotEncoder(sparse_output=False)\n",
    "    encoded_columns = encoder.fit_transform(df[[column_to_encode]])\n",
    "    # 3. Create new column names\n",
    "    # encoded_column_name = column_to_encode + '_encoded'\n",
    "    # 4. Replace the original categorical column with the encoded columns\n",
    "    encoded_column_names = encoder.get_feature_names_out([column_to_encode])\n",
    "    encoded_df = pd.DataFrame(encoded_columns, columns=encoded_column_names, index=df.index)\n",
    "    # df = df.drop(columns=[column_to_encode])\n",
    "    df = pd.concat([df, encoded_df], axis=1)\n",
    "    # Placeholder return - replace with your implementation\n",
    "    return df\n",
    "# test it\n",
    "df = load_data()\n",
    "df = encode_categorical_features(df)\n",
    "df.columns\n",
    "df['smoker_status_former'].value_counts()\n",
    "df['smoker_status_no'].value_counts()\n",
    "df['smoker_status_yes'].value_counts()"
   ]
  },
  {
   "cell_type": "markdown",
   "id": "9741adf6",
   "metadata": {},
   "source": [
    "## 4. Data Preparation\n",
    "\n",
    "Implement `prepare_data_part3` to handle the train/test split correctly."
   ]
  },
  {
   "cell_type": "code",
   "execution_count": 36,
   "id": "d28d570a",
   "metadata": {},
   "outputs": [
    {
     "name": "stdout",
     "output_type": "stream",
     "text": [
      "Data loaded successfully from ./data/synthetic_health_data.csv\n"
     ]
    }
   ],
   "source": [
    "def prepare_data_part3(df, test_size=0.2, random_state=42):\n",
    "    \"\"\"\n",
    "    Prepare data with categorical encoding.\n",
    "    \n",
    "    Args:\n",
    "        df: Input DataFrame\n",
    "        test_size: Proportion of data for testing\n",
    "        random_state: Random seed for reproducibility\n",
    "        \n",
    "    Returns:\n",
    "        X_train, X_test, y_train, y_test\n",
    "    \"\"\"\n",
    "    # YOUR CODE HERE\n",
    "    # 1. Encode categorical features using the encode_categorical_features function\n",
    "    df_encoded = encode_categorical_features(df).ffill().bfill()\n",
    "    assert df_encoded.isnull().sum().sum() == 0, \"There are still missing values in the DataFrame\"  \n",
    "    # 2. Select relevant features (including the one-hot encoded ones) and the target\n",
    "    feature_columns_names = ['smoker_status_former' ,'smoker_status_no', 'smoker_status_yes', 'age', 'bmi', 'systolic_bp', 'diastolic_bp', 'glucose_level']\n",
    "    X = df_encoded[feature_columns_names]\n",
    "    Y = df_encoded['disease_outcome']\n",
    "    # 3. Split data into training and testing sets\n",
    "    X_train, X_test, y_train, y_test = train_test_split(X, Y, test_size=test_size, random_state=random_state)\n",
    "    # 4. Handle missing values\n",
    "    \n",
    "    # Placeholder return - replace with your implementation\n",
    "    return X_train, X_test, y_train, y_test\n",
    "# test it\n",
    "df = load_data()\n",
    "X_train, X_test, y_train, y_test = prepare_data_part3(df)"
   ]
  },
  {
   "cell_type": "markdown",
   "id": "e5040daa",
   "metadata": {},
   "source": [
    "## 5. Handling Imbalanced Data\n",
    "\n",
    "Implement `apply_smote` to oversample the minority class."
   ]
  },
  {
   "cell_type": "code",
   "execution_count": 37,
   "id": "cec1f78c",
   "metadata": {},
   "outputs": [],
   "source": [
    "def apply_smote(X_train, y_train, random_state=42):\n",
    "    \"\"\"\n",
    "    Apply SMOTE to oversample the minority class.\n",
    "    \n",
    "    Args:\n",
    "        X_train: Training features\n",
    "        y_train: Training target\n",
    "        random_state: Random seed for reproducibility\n",
    "        \n",
    "    Returns:\n",
    "        Resampled X_train and y_train with balanced classes\n",
    "    \"\"\"\n",
    "    # YOUR CODE HERE\n",
    "    # Apply SMOTE to balance the classes\n",
    "    smote = SMOTE(random_state=random_state)\n",
    "    X_train_resampled, y_train_resampled = smote.fit_resample(X_train, y_train)\n",
    "    # Placeholder return - replace with your implementation\n",
    "    return X_train_resampled, y_train_resampled"
   ]
  },
  {
   "cell_type": "markdown",
   "id": "4d0877ad",
   "metadata": {},
   "source": [
    "## 6. Model Training and Evaluation\n",
    "\n",
    "Train a model on the SMOTE-resampled data and evaluate it."
   ]
  },
  {
   "cell_type": "code",
   "execution_count": 38,
   "id": "35eee7b0",
   "metadata": {},
   "outputs": [],
   "source": [
    "def train_logistic_regression(X_train, y_train) -> LogisticRegression:\n",
    "    \"\"\"\n",
    "    Train a logistic regression model.\n",
    "    \n",
    "    Args:\n",
    "        X_train: Training features\n",
    "        y_train: Training target\n",
    "        \n",
    "    Returns:\n",
    "        Trained logistic regression model\n",
    "    \"\"\"\n",
    "    # YOUR CODE HERE\n",
    "    # Initialize and train a LogisticRegression model\n",
    "    model = LogisticRegression()\n",
    "    model.fit(X_train, y_train)\n",
    "    \n",
    "    return model  # Replace with actual implementation\n",
    "\n",
    "def calculate_evaluation_metrics(model: LogisticRegression, X_test, y_test) -> dict:\n",
    "    \"\"\"\n",
    "    Calculate classification evaluation metrics.\n",
    "    \n",
    "    Args:\n",
    "        model: Trained model\n",
    "        X_test: Test features\n",
    "        y_test: Test target\n",
    "        \n",
    "    Returns:\n",
    "        Dictionary containing accuracy, precision, recall, f1, auc, and confusion_matrix\n",
    "    \"\"\"\n",
    "    # YOUR CODE HERE\n",
    "    # 1. Generate predictions\n",
    "    y_pred = model.predict(X_test)\n",
    "    # 2. Calculate metrics: accuracy, precision, recall, f1, auc\n",
    "    accuracy = accuracy_score(y_test, y_pred)\n",
    "    precision = precision_score(y_test, y_pred)\n",
    "    recall = recall_score(y_test, y_pred)\n",
    "    f1 = f1_score(y_test, y_pred)\n",
    "    auc = roc_auc_score(y_test, model.predict_proba(X_test)[:, 1])\n",
    "    # 3. Create confusion matrix\n",
    "    cm = confusion_matrix(y_test, y_pred)\n",
    "    # 4. Return metrics in a dictionary\n",
    "    metrics = {\n",
    "        'accuracy': accuracy,\n",
    "        'precision': precision,\n",
    "        'recall': recall,\n",
    "        'f1': f1,\n",
    "        'auc': auc,\n",
    "        'confusion_matrix': cm\n",
    "    }\n",
    "    # Placeholder return - replace with your implementation\n",
    "    return metrics"
   ]
  },
  {
   "cell_type": "markdown",
   "id": "968dc83e",
   "metadata": {},
   "source": [
    "## 7. Save Results\n",
    "\n",
    "Save the evaluation metrics to a text file."
   ]
  },
  {
   "cell_type": "code",
   "execution_count": 39,
   "id": "b997bbba",
   "metadata": {},
   "outputs": [],
   "source": [
    "# YOUR CODE HERE\n",
    "# 1. Create 'results' directory if it doesn't exist\n",
    "# 2. Format metrics as strings\n",
    "# 3. Write metrics to 'results/results_part3.txt'"
   ]
  },
  {
   "cell_type": "markdown",
   "id": "62229888",
   "metadata": {},
   "source": [
    "## 8. Main Execution\n",
    "\n",
    "Run the complete workflow."
   ]
  },
  {
   "cell_type": "code",
   "execution_count": 44,
   "id": "2c02b032",
   "metadata": {},
   "outputs": [
    {
     "name": "stdout",
     "output_type": "stream",
     "text": [
      "Data loaded successfully from data/synthetic_health_data.csv\n",
      "accuracy: 0.8390\n",
      "precision: 0.3604\n",
      "recall: 0.8392\n",
      "f1: 0.5042\n",
      "auc: 0.9137\n",
      "Result saved to result/result_part3.txt\n",
      "Metric f1_score not found in Part 3 metrics.\n",
      "\n",
      "Model Comparison (improvement percentages):\n",
      "accuracy: -7.93%\n",
      "precision: -51.35%\n",
      "recall: 500.00%\n",
      "auc: 1.26%\n"
     ]
    },
    {
     "name": "stderr",
     "output_type": "stream",
     "text": [
      "/Users/macbook/Documents/ucsf_couses/ds223/assignments/5-put-a-label-on-it-Exynos-8890/.venv/lib/python3.13/site-packages/sklearn/linear_model/_logistic.py:465: ConvergenceWarning: lbfgs failed to converge (status=1):\n",
      "STOP: TOTAL NO. OF ITERATIONS REACHED LIMIT.\n",
      "\n",
      "Increase the number of iterations (max_iter) or scale the data as shown in:\n",
      "    https://scikit-learn.org/stable/modules/preprocessing.html\n",
      "Please also refer to the documentation for alternative solver options:\n",
      "    https://scikit-learn.org/stable/modules/linear_model.html#logistic-regression\n",
      "  n_iter_i = _check_optimize_result(\n"
     ]
    }
   ],
   "source": [
    "# Main execution\n",
    "if __name__ == \"__main__\":\n",
    "    # 1. Load data\n",
    "    data_file = 'data/synthetic_health_data.csv'\n",
    "    df = load_data(data_file)\n",
    "    \n",
    "    # 2. Prepare data with categorical encoding\n",
    "    X_train, X_test, y_train, y_test = prepare_data_part3(df)\n",
    "    \n",
    "    # 3. Apply SMOTE to balance the training data\n",
    "    X_train_resampled, y_train_resampled = apply_smote(X_train, y_train)\n",
    "    \n",
    "    # 4. Train model on resampled data\n",
    "    model = train_logistic_regression(X_train_resampled, y_train_resampled)\n",
    "    \n",
    "    # 5. Evaluate on original test set\n",
    "    metrics = calculate_evaluation_metrics(model, X_test, y_test)\n",
    "    \n",
    "    # 6. Print metrics\n",
    "    for metric, value in metrics.items():\n",
    "        if metric != 'confusion_matrix':\n",
    "            print(f\"{metric}: {value:.4f}\")\n",
    "    \n",
    "    # 7. Save results\n",
    "    # (Your code for saving results)\n",
    "    import json\n",
    "    if not os.path.exists('result'):\n",
    "        os.makedirs('result')\n",
    "    results_file = 'result/result_part3.txt'\n",
    "    with open(results_file, 'w') as f:\n",
    "        # write as json\n",
    "        metrics_to_save = metrics.copy()\n",
    "        metrics_to_save['confusion_matrix'] = metrics_to_save['confusion_matrix'].tolist()\n",
    "        json.dump(metrics_to_save, f, indent=4)\n",
    "    \n",
    "    print(f\"Result saved to {results_file}\")\n",
    "    \n",
    "    # 8. Load Part 1 results for comparison\n",
    "\n",
    "    try:\n",
    "        with open('result/result_part1.json', 'r') as f:\n",
    "            part1_metrics = json.load(f)\n",
    "        \n",
    "        # 9. Compare models\n",
    "        comparison = compare_models(part1_metrics, metrics)\n",
    "        print(\"\\nModel Comparison (improvement percentages):\")\n",
    "        for metric, improvement in comparison.items():\n",
    "            print(f\"{metric}: {improvement:.2f}%\")\n",
    "    except FileNotFoundError:\n",
    "        print(\"Part 1 results not found. Run part1_introduction.ipynb first.\")"
   ]
  },
  {
   "cell_type": "markdown",
   "id": "d6b24327",
   "metadata": {},
   "source": [
    "## 9. Compare Results\n",
    "\n",
    "Implement a function to compare model performance between balanced and imbalanced data."
   ]
  },
  {
   "cell_type": "code",
   "execution_count": 31,
   "id": "e4d237ed",
   "metadata": {},
   "outputs": [],
   "source": [
    "def compare_models(part1_metrics: dict, part3_metrics: dict):\n",
    "    \"\"\"\n",
    "    Calculate percentage improvement between models trained on imbalanced vs. balanced data.\n",
    "    \n",
    "    Args:\n",
    "        part1_metrics: Dictionary containing evaluation metrics from Part 1 (imbalanced)\n",
    "        part3_metrics: Dictionary containing evaluation metrics from Part 3 (balanced)\n",
    "        \n",
    "    Returns:\n",
    "        Dictionary with metric names as keys and improvement percentages as values\n",
    "    \"\"\"\n",
    "    # YOUR CODE HERE\n",
    "    part1_metrics.pop('confusion_matrix')\n",
    "    part3_metrics.pop('confusion_matrix')\n",
    "    improve_dict = {}\n",
    "    # 1. Calculate percentage improvement for each metric\n",
    "    for metric , value in part1_metrics.items():\n",
    "        if metric in part3_metrics:\n",
    "            if part1_metrics[metric] == 0:\n",
    "                part1_metrics[metric] = 0.0001\n",
    "            improvement_value = (part3_metrics[metric] - part1_metrics[metric]) / abs(part1_metrics[metric]) * 100\n",
    "            improve_dict[metric] = improvement_value\n",
    "        else:\n",
    "            print(f\"Metric {metric} not found in Part 3 metrics.\")\n",
    "    # 2. Handle metrics where higher is better (most metrics) and where lower is better\n",
    "    # 3. Return a dictionary with metric names and improvement percentages\n",
    "    \n",
    "    # Placeholder return - replace with your implementation\n",
    "    return improve_dict"
   ]
  }
 ],
 "metadata": {
  "kernelspec": {
   "display_name": ".venv",
   "language": "python",
   "name": "python3"
  },
  "language_info": {
   "codemirror_mode": {
    "name": "ipython",
    "version": 3
   },
   "file_extension": ".py",
   "mimetype": "text/x-python",
   "name": "python",
   "nbconvert_exporter": "python",
   "pygments_lexer": "ipython3",
   "version": "3.13.3"
  }
 },
 "nbformat": 4,
 "nbformat_minor": 5
}
